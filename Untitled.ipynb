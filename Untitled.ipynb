{
 "cells": [
  {
   "cell_type": "code",
   "execution_count": 116,
   "metadata": {},
   "outputs": [],
   "source": [
    "import numpy as np\n",
    "import pandas as pd"
   ]
  },
  {
   "cell_type": "code",
   "execution_count": 117,
   "metadata": {},
   "outputs": [],
   "source": [
    "csv_file = \"matches_2020-07-15T07:11:15.616355+00:00.csv\"\n",
    "csv_data = pd.read_csv(csv_file)"
   ]
  },
  {
   "cell_type": "code",
   "execution_count": 118,
   "metadata": {},
   "outputs": [
    {
     "data": {
      "text/html": [
       "<div>\n",
       "<style scoped>\n",
       "    .dataframe tbody tr th:only-of-type {\n",
       "        vertical-align: middle;\n",
       "    }\n",
       "\n",
       "    .dataframe tbody tr th {\n",
       "        vertical-align: top;\n",
       "    }\n",
       "\n",
       "    .dataframe thead th {\n",
       "        text-align: right;\n",
       "    }\n",
       "</style>\n",
       "<table border=\"1\" class=\"dataframe\">\n",
       "  <thead>\n",
       "    <tr style=\"text-align: right;\">\n",
       "      <th></th>\n",
       "      <th>timestamp</th>\n",
       "      <th>ais_distance</th>\n",
       "      <th>ais_bearing</th>\n",
       "      <th>ais_width</th>\n",
       "      <th>ais_length</th>\n",
       "      <th>ai_bearing</th>\n",
       "      <th>imageIndex</th>\n",
       "      <th>y_max_rel</th>\n",
       "      <th>height</th>\n",
       "      <th>height_rel</th>\n",
       "      <th>width</th>\n",
       "      <th>width_rel</th>\n",
       "      <th>vessel_course</th>\n",
       "      <th>mode</th>\n",
       "      <th>match</th>\n",
       "    </tr>\n",
       "  </thead>\n",
       "  <tbody>\n",
       "    <tr>\n",
       "      <th>0</th>\n",
       "      <td>2020-06-28T17:33:00+00:00</td>\n",
       "      <td>2354.8</td>\n",
       "      <td>263.0</td>\n",
       "      <td>16.0</td>\n",
       "      <td>128.0</td>\n",
       "      <td>268.12</td>\n",
       "      <td>2</td>\n",
       "      <td>55.6</td>\n",
       "      <td>19.0</td>\n",
       "      <td>9.5</td>\n",
       "      <td>19.0</td>\n",
       "      <td>1.1</td>\n",
       "      <td>279.2</td>\n",
       "      <td>open_sea</td>\n",
       "      <td>1</td>\n",
       "    </tr>\n",
       "    <tr>\n",
       "      <th>1</th>\n",
       "      <td>2020-06-28T18:06:00+00:00</td>\n",
       "      <td>984.9</td>\n",
       "      <td>205.7</td>\n",
       "      <td>16.0</td>\n",
       "      <td>128.0</td>\n",
       "      <td>215.27</td>\n",
       "      <td>1</td>\n",
       "      <td>61.5</td>\n",
       "      <td>29.0</td>\n",
       "      <td>14.4</td>\n",
       "      <td>95.0</td>\n",
       "      <td>5.3</td>\n",
       "      <td>257.1</td>\n",
       "      <td>open_sea</td>\n",
       "      <td>1</td>\n",
       "    </tr>\n",
       "    <tr>\n",
       "      <th>2</th>\n",
       "      <td>2020-06-25T06:09:00+00:00</td>\n",
       "      <td>5293.3</td>\n",
       "      <td>82.4</td>\n",
       "      <td>16.0</td>\n",
       "      <td>140.0</td>\n",
       "      <td>87.18</td>\n",
       "      <td>2</td>\n",
       "      <td>52.6</td>\n",
       "      <td>8.0</td>\n",
       "      <td>4.0</td>\n",
       "      <td>14.0</td>\n",
       "      <td>0.8</td>\n",
       "      <td>99.2</td>\n",
       "      <td>open_sea</td>\n",
       "      <td>1</td>\n",
       "    </tr>\n",
       "    <tr>\n",
       "      <th>3</th>\n",
       "      <td>2020-06-25T01:46:00+00:00</td>\n",
       "      <td>3555.2</td>\n",
       "      <td>75.9</td>\n",
       "      <td>28.0</td>\n",
       "      <td>185.0</td>\n",
       "      <td>77.56</td>\n",
       "      <td>3</td>\n",
       "      <td>54.1</td>\n",
       "      <td>12.0</td>\n",
       "      <td>6.0</td>\n",
       "      <td>10.0</td>\n",
       "      <td>0.5</td>\n",
       "      <td>71.3</td>\n",
       "      <td>open_sea</td>\n",
       "      <td>1</td>\n",
       "    </tr>\n",
       "    <tr>\n",
       "      <th>4</th>\n",
       "      <td>2020-06-25T01:46:00+00:00</td>\n",
       "      <td>19032.5</td>\n",
       "      <td>33.4</td>\n",
       "      <td>24.0</td>\n",
       "      <td>180.0</td>\n",
       "      <td>42.90</td>\n",
       "      <td>2</td>\n",
       "      <td>50.6</td>\n",
       "      <td>8.0</td>\n",
       "      <td>4.0</td>\n",
       "      <td>11.0</td>\n",
       "      <td>0.6</td>\n",
       "      <td>71.3</td>\n",
       "      <td>open_sea</td>\n",
       "      <td>1</td>\n",
       "    </tr>\n",
       "  </tbody>\n",
       "</table>\n",
       "</div>"
      ],
      "text/plain": [
       "                   timestamp  ais_distance  ais_bearing  ais_width  \\\n",
       "0  2020-06-28T17:33:00+00:00        2354.8        263.0       16.0   \n",
       "1  2020-06-28T18:06:00+00:00         984.9        205.7       16.0   \n",
       "2  2020-06-25T06:09:00+00:00        5293.3         82.4       16.0   \n",
       "3  2020-06-25T01:46:00+00:00        3555.2         75.9       28.0   \n",
       "4  2020-06-25T01:46:00+00:00       19032.5         33.4       24.0   \n",
       "\n",
       "   ais_length  ai_bearing  imageIndex  y_max_rel  height  height_rel  width  \\\n",
       "0       128.0      268.12           2       55.6    19.0         9.5   19.0   \n",
       "1       128.0      215.27           1       61.5    29.0        14.4   95.0   \n",
       "2       140.0       87.18           2       52.6     8.0         4.0   14.0   \n",
       "3       185.0       77.56           3       54.1    12.0         6.0   10.0   \n",
       "4       180.0       42.90           2       50.6     8.0         4.0   11.0   \n",
       "\n",
       "   width_rel  vessel_course      mode  match  \n",
       "0        1.1          279.2  open_sea      1  \n",
       "1        5.3          257.1  open_sea      1  \n",
       "2        0.8           99.2  open_sea      1  \n",
       "3        0.5           71.3  open_sea      1  \n",
       "4        0.6           71.3  open_sea      1  "
      ]
     },
     "execution_count": 118,
     "metadata": {},
     "output_type": "execute_result"
    }
   ],
   "source": [
    "csv_data.head()"
   ]
  },
  {
   "cell_type": "code",
   "execution_count": 123,
   "metadata": {},
   "outputs": [
    {
     "data": {
      "text/plain": [
       "(1310, 15)"
      ]
     },
     "execution_count": 123,
     "metadata": {},
     "output_type": "execute_result"
    }
   ],
   "source": [
    "csv_data[\"bearing_diff\"] = csv_data[\"ai_bearing\"] - csv_data[\"ais_bearing\"]\n",
    "csv_data[\"height_rel\"] = csv_data[\"height_rel\"] / 100\n",
    "csv_data[\"width_rel\"] = csv_data[\"width_rel\"] / 100\n",
    "csv_data[\"y_max_rel\"] = csv_data[\"y_max_rel\"] / 100\n",
    "csv_data[\"image_1\"] = (csv_data[\"imageIndex\"] == 1).astype(int)\n",
    "csv_data[\"image_2\"] = (csv_data[\"imageIndex\"] == 2).astype(int)\n",
    "csv_data[\"image_3\"] = (csv_data[\"imageIndex\"] == 3).astype(int)\n",
    "csv_data[\"image_4\"] = (csv_data[\"imageIndex\"] == 4).astype(int)\n",
    "csv_data[\"image_5\"] = (csv_data[\"imageIndex\"] == 5).astype(int)\n",
    "\n",
    "def normalize_bearing(r):\n",
    "    bearing = r[\"ais_bearing\"]\n",
    "    if bearing <= 180:\n",
    "        return bearing\n",
    "    return bearing - 360\n",
    "\n",
    "csv_data[\"ais_bearing\"] = csv_data.apply(normalize_bearing, axis=1)\n",
    "\n",
    "X = csv_data.drop(columns=[\"timestamp\", \"ai_bearing\", \"mode\", \"height\", \"width\", \"imageIndex\"])\n",
    "y = csv_data[\"match\"]\n",
    "\n",
    "X.head()\n",
    "X.shape"
   ]
  },
  {
   "cell_type": "code",
   "execution_count": 127,
   "metadata": {},
   "outputs": [
    {
     "data": {
      "text/plain": [
       "1.0"
      ]
     },
     "execution_count": 127,
     "metadata": {},
     "output_type": "execute_result"
    }
   ],
   "source": [
    "from sklearn.model_selection import train_test_split\n",
    "\n",
    "X_train, X_test, y_train, y_test = train_test_split(X, y, test_size=0.3, random_state=42)\n",
    "\n",
    "from sklearn.ensemble import RandomForestClassifier\n",
    "from sklearn.metrics import accuracy_score\n",
    "\n",
    "model = RandomForestClassifier()\n",
    "model.fit(X_train, y_train)\n",
    "y_predict = model.predict(X_test)\n",
    "\n",
    "X_test.head()\n",
    "\n",
    "accuracy_score(y_test.values, y_predict)"
   ]
  },
  {
   "cell_type": "code",
   "execution_count": null,
   "metadata": {},
   "outputs": [],
   "source": []
  }
 ],
 "metadata": {
  "kernelspec": {
   "display_name": "Python 3",
   "language": "python",
   "name": "python3"
  },
  "language_info": {
   "codemirror_mode": {
    "name": "ipython",
    "version": 3
   },
   "file_extension": ".py",
   "mimetype": "text/x-python",
   "name": "python",
   "nbconvert_exporter": "python",
   "pygments_lexer": "ipython3",
   "version": "3.7.6"
  }
 },
 "nbformat": 4,
 "nbformat_minor": 4
}
